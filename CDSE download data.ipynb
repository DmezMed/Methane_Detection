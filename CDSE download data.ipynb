{
  "cells": [
    {
      "cell_type": "markdown",
      "metadata": {
        "id": "kdOSLnWZQbtV"
      },
      "source": [
        "# Sentinel Hub download data"
      ]
    },
    {
      "cell_type": "markdown",
      "metadata": {
        "id": "Om8wL-Z8YhAB"
      },
      "source": [
        "## 0. Install and import packages"
      ]
    },
    {
      "cell_type": "code",
      "execution_count": null,
      "metadata": {
        "id": "6Efrjz4vy7IZ"
      },
      "outputs": [],
      "source": [
        "!pip install suntime\n",
        "!pip install creds\n",
        "!pip install sentinelhub"
      ]
    },
    {
      "cell_type": "code",
      "execution_count": null,
      "metadata": {
        "id": "pDYxEiBkYmIJ"
      },
      "outputs": [],
      "source": [
        "import os, shutil\n",
        "import getpass\n",
        "import requests\n",
        "import pandas as pd\n",
        "from datetime import datetime as dt\n",
        "from suntime import Sun\n",
        "from sentinelhub import (\n",
        "    SHConfig,\n",
        "    CRS,\n",
        "    BBox,\n",
        "    DataCollection,\n",
        "    SentinelHubCatalog,\n",
        "    )"
      ]
    },
    {
      "cell_type": "markdown",
      "metadata": {
        "id": "bg-NiJaFYopZ"
      },
      "source": [
        "## 1. Setting up credentials"
      ]
    },
    {
      "cell_type": "markdown",
      "metadata": {
        "id": "cetx9zloVt4w"
      },
      "source": [
        "### 1.1 Obtain token\n",
        "\n",
        "Sign up in https://dataspace.copernicus.eu/"
      ]
    },
    {
      "cell_type": "code",
      "execution_count": null,
      "metadata": {
        "id": "P5PNllD8VU2v"
      },
      "outputs": [],
      "source": [
        "copernicus_user = str(input('Copernicus user: '))\n",
        "copernicus_password = getpass.getpass(\"Password: \")\n",
        "\n",
        "def get_token(username: str, password: str) -> str:\n",
        "    data = {\n",
        "        \"client_id\": \"cdse-public\",\n",
        "        \"username\": username,\n",
        "        \"password\": password,\n",
        "        \"grant_type\": \"password\",\n",
        "    }\n",
        "    try:\n",
        "        r = requests.post(\n",
        "            \"https://identity.dataspace.copernicus.eu/auth/realms/CDSE/protocol/openid-connect/token\",\n",
        "            data=data,\n",
        "        )\n",
        "        r.raise_for_status()\n",
        "    except Exception as e:\n",
        "        raise Exception(\n",
        "            f\"Keycloak token creation failed. Reponse from the server was: {r.json()}\"\n",
        "        )\n",
        "    return r.json()[\"access_token\"]"
      ]
    },
    {
      "cell_type": "markdown",
      "metadata": {
        "id": "OCIejZxZVSNf"
      },
      "source": [
        "### 1.2 Catalog config\n",
        "\n",
        "A SentinelHub client must be configured (https://www.youtube.com/watch?v=GA50fqbrCo4&list=PLj4KwRQTBlPL3CVwpaBXl3VrO0_V3VX_Q&pp=iAQB)"
      ]
    },
    {
      "cell_type": "code",
      "execution_count": null,
      "metadata": {
        "id": "Bg3_sP94di0Y"
      },
      "outputs": [],
      "source": [
        "config = SHConfig()\n",
        "config.sh_client_id = getpass.getpass(\"Enter your SentinelHub client id\")\n",
        "config.sh_client_secret = getpass.getpass(\"Enter your SentinelHub client secret\")\n",
        "config.sh_token_url = \"https://identity.dataspace.copernicus.eu/auth/realms/CDSE/protocol/openid-connect/token\"\n",
        "config.sh_base_url = \"https://sh.dataspace.copernicus.eu\"\n",
        "config.save(\"cdse\")\n",
        "catalog = SentinelHubCatalog(config=config)"
      ]
    },
    {
      "cell_type": "markdown",
      "metadata": {
        "id": "GrnT9tMSeZzn"
      },
      "source": [
        "## 2. Obtain data\n",
        "\n",
        "*   **aoi_coords_wgs84:** BBox of the area of interest with shape (lon1, lat1, lon2, lat2). Can easily be obtained in http://bboxfinder.com/\n",
        "*   **time_interval:** Defines the start and end dates to download data. date = \"YYYY-mm-dd\"; time_interval = start_date, end_date "
      ]
    },
    {
      "cell_type": "code",
      "execution_count": null,
      "metadata": {
        "id": "McMkpMxpAnNX"
      },
      "outputs": [],
      "source": [
        "# Define area of interest and time interval\n",
        "\n",
        "aoi_coords_wgs84 = (71.5034, 70.2289, 71.9717, 70.2820) # (lon1, lat1, lon2, lat2)\n",
        "aoi_bbox = BBox(bbox=aoi_coords_wgs84, crs=CRS.WGS84)\n",
        "time_interval = \"2017-06-20\", \"2018-01-15\"\n",
        "\n",
        "# Search filtered data\n",
        "\n",
        "search_iterator = catalog.search(\n",
        "    DataCollection.SENTINEL3_SLSTR,\n",
        "    bbox=aoi_bbox,\n",
        "    time=time_interval,\n",
        "    filter=\"eo:cloud_cover < 35\",\n",
        "    fields={\"include\": [\"id\", \"properties.datetime\"], \"exclude\": []},\n",
        "    )\n",
        "\n",
        "results = list(search_iterator)\n",
        "print(\"Total number of results:\", len(results))\n",
        "\n",
        "\n",
        "# Day time observations\n",
        "\n",
        "date_start = dt.strptime(time_interval[0], '%Y-%m-%d')\n",
        "sun = Sun(aoi_coords_wgs84[1], aoi_coords_wgs84[0]) # Latitude and longitude of observation\n",
        "sunrise_utc = sun.get_sunrise_time(date_start).time()\n",
        "sunset_utc = sun.get_sunset_time(date_start).time()\n",
        "\n",
        "all_uuids_to_download = []\n",
        "\n",
        "for key in results:\n",
        "    date = key['properties']['datetime'].replace('T', ' ').split('.')[0]\n",
        "    date = dt.strptime(date, '%Y-%m-%d %H:%M:%S')\n",
        "    time = date.time()\n",
        "    if sunset_utc > sunrise_utc:\n",
        "        if time > sunrise_utc and time < sunset_utc:\n",
        "            all_uuids_to_download.append(key['id'])\n",
        "    else:\n",
        "        if time > sunrise_utc or time < sunset_utc:\n",
        "            all_uuids_to_download.append(key['id'])\n",
        "\n",
        "print(\"Total day time observations:\", len(all_uuids_to_download))"
      ]
    },
    {
      "cell_type": "code",
      "execution_count": null,
      "metadata": {
        "id": "PMVb1CDIupGq"
      },
      "outputs": [],
      "source": [
        "# Obtain the Id of the requested observations\n",
        "\n",
        "data_collection = \"SENTINEL-3\"\n",
        "Id_to_download = []\n",
        "\n",
        "for uuid in all_uuids_to_download:\n",
        "  json = requests.get(f\"https://catalogue.dataspace.copernicus.eu/odata/v1/Products?$filter=Collection/Name eq '{data_collection}' and contains(Name,'{uuid}')\").json()\n",
        "  pd.DataFrame.from_dict(json['value']).head(4)\n",
        "  df = pd.DataFrame.from_dict(json['value'])\n",
        "  Id_to_download.append(df['Id'][0])"
      ]
    },
    {
      "cell_type": "markdown",
      "metadata": {
        "id": "84N5QRkUtMSU"
      },
      "source": [
        "## 3. Download data\n",
        "*   **download_dir:** directory where data will be downloaded"
      ]
    },
    {
      "cell_type": "code",
      "execution_count": null,
      "metadata": {
        "id": "SK53sxQOe9ly"
      },
      "outputs": [],
      "source": [
        "# Download directory\n",
        "\n",
        "download_dir = './Data/Case_name/'\n",
        "\n",
        "# Download process\n",
        "\n",
        "token = get_token(copernicus_user, copernicus_password)\n",
        "\n",
        "print(f'Downloading {len(Id_to_download)} files:')\n",
        "\n",
        "for i in range(len(Id_to_download)):\n",
        "  url = f\"https://zipper.dataspace.copernicus.eu/odata/v1/Products({Id_to_download[i]})/$value\"\n",
        "  print(f'  {i+1}. Downloading {all_uuids_to_download[i]}.zip')\n",
        "\n",
        "  headers = {\"Authorization\": f\"Bearer {token}\"}\n",
        "\n",
        "  session = requests.Session()\n",
        "  session.headers.update(headers)\n",
        "  response = session.get(url, headers=headers, stream=True)\n",
        "  with open(f\"{download_dir}{all_uuids_to_download[i]}.zip\", \"wb\") as file:\n",
        "      for chunk in response.iter_content(chunk_size=8192):\n",
        "          if chunk:\n",
        "              file.write(chunk)\n",
        "\n",
        "# Unzip the product files\n",
        "\n",
        "print('Start unzipping ... ')\n",
        "\n",
        "for filename in os.listdir(download_dir):\n",
        "    if filename.endswith('.zip'):\n",
        "        shutil.unpack_archive(download_dir + filename, download_dir)\n",
        "        os.remove(download_dir + filename)\n",
        "\n",
        "print(' ... Finished unzipping')"
      ]
    }
  ],
  "metadata": {
    "colab": {
      "provenance": []
    },
    "kernelspec": {
      "display_name": "Python 3",
      "name": "python3"
    },
    "language_info": {
      "name": "python"
    }
  },
  "nbformat": 4,
  "nbformat_minor": 0
}
