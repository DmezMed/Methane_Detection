{
  "cells": [
    {
      "cell_type": "markdown",
      "id": "y0VEzaiqO9AT",
      "metadata": {
        "id": "y0VEzaiqO9AT"
      },
      "source": [
        "# Sentinel-2 data processing\n"
      ]
    },
    {
      "cell_type": "markdown",
      "id": "aeNcazv2Pkei",
      "metadata": {
        "id": "aeNcazv2Pkei"
      },
      "source": [
        "## 0. Install and import packages"
      ]
    },
    {
      "cell_type": "code",
      "execution_count": null,
      "id": "KhFvG9MafhG9",
      "metadata": {
        "id": "KhFvG9MafhG9"
      },
      "outputs": [],
      "source": [
        "# a Google Eath engine python API is needed.\n",
        "# See https://developers.google.com/earth-engine/tutorials/community/intro-to-python-api\n",
        "project_name = str(input('Earth engine project name: '))\n",
        "import ee ; ee.Authenticate() ; ee.Initialize(project=project_name)"
      ]
    },
    {
      "cell_type": "code",
      "execution_count": null,
      "id": "-sZSp9WsATfW",
      "metadata": {
        "id": "-sZSp9WsATfW"
      },
      "outputs": [],
      "source": [
        "!pip install cartopy\n",
        "!pip install netCDF4\n",
        "!pip install matplotlib_scalebar"
      ]
    },
    {
      "cell_type": "code",
      "execution_count": null,
      "id": "b4a4089c",
      "metadata": {
        "id": "b4a4089c"
      },
      "outputs": [],
      "source": [
        "%load_ext autoreload\n",
        "%autoreload 2\n",
        "import os, sys\n",
        "import collections ; collections.Callable = collections.abc.Callable\n",
        "\n",
        "sys.path.append(\"./Scripts/\")\n",
        "import Lookup_tables_generator as ltg\n",
        "import MS_XCH4_retrieval as ms\n",
        "from datetime import datetime, timedelta"
      ]
    },
    {
      "cell_type": "markdown",
      "id": "9f341876",
      "metadata": {
        "id": "9f341876"
      },
      "source": [
        "## 1. Retreive methane plume  "
      ]
    },
    {
      "cell_type": "markdown",
      "id": "7db791a9",
      "metadata": {
        "id": "7db791a9"
      },
      "source": [
        "### 1.1 Run Google Earth Engine operations.\n",
        "\n",
        "*   **lon, lat:** central longitude and latitude\n",
        "*   **case:** name for title of figures and files\n",
        "*   **start/ref_date:** Defines when to start find valid data for the main/reference date\n",
        "*   **method:** indicates whether to use the method 'MBMP, 'MBSP' or 'SBMP'"
      ]
    },
    {
      "cell_type": "code",
      "execution_count": null,
      "id": "81b29710",
      "metadata": {
        "id": "81b29710"
      },
      "outputs": [],
      "source": [
        "lon, lat = 6.173, 31.864\n",
        "case = 'case_name'\n",
        "start_date = datetime(2020,1,4)\n",
        "ref_date = datetime(2019,12,25)\n",
        "method = 'MBMP'\n",
        "obj = ms.ch4ret(start_date,ref_date, method,lat,lon,area= 2,case= case,\n",
        "                TOAsat= 'S2', verbose = True, min_red_R= 0.7 )\n",
        "\n",
        "obj.delRcalc(ref_date = ref_date, plot_option=True);"
      ]
    },
    {
      "cell_type": "markdown",
      "id": "3905a981",
      "metadata": {
        "id": "3905a981"
      },
      "source": [
        "### 1.2 Display Plume Images"
      ]
    },
    {
      "cell_type": "code",
      "execution_count": null,
      "id": "0a445084",
      "metadata": {
        "id": "0a445084"
      },
      "outputs": [],
      "source": [
        "obj.fig_delR"
      ]
    },
    {
      "cell_type": "markdown",
      "id": "afaaae6f",
      "metadata": {
        "id": "afaaae6f"
      },
      "source": [
        "### 1.3 Methane plume on an interactive map"
      ]
    },
    {
      "cell_type": "code",
      "execution_count": null,
      "id": "24e9a850",
      "metadata": {
        "id": "24e9a850"
      },
      "outputs": [],
      "source": [
        "# The maps shows the corresponding RBG images, which need to be to detection method plumes.\n",
        "# TROPOMI XCH4 is also displayed.\n",
        "\n",
        "obj.foliumMap()"
      ]
    },
    {
      "cell_type": "markdown",
      "id": "9c297520",
      "metadata": {
        "id": "9c297520"
      },
      "source": [
        "## 2. Analyze a period for methane plume detections.\n",
        "*   **lon, lat:** central longitude and latitude\n",
        "*   **case:** for title of figures and name of files\n",
        "*   **start/ed_date:** Defines the start and end date of the analyzed period\n",
        "*   **method:** indicates whether to use the method 'MBMP, 'MBSP' or 'SBMP'"
      ]
    },
    {
      "cell_type": "code",
      "execution_count": null,
      "id": "1432df08",
      "metadata": {
        "id": "1432df08"
      },
      "outputs": [],
      "source": [
        " # This will create a .pkl file with data for a period\n",
        "\n",
        "lon, lat = 6.173, 31.864\n",
        "case = 'case_name'\n",
        "start_date = datetime(2019,12,25)\n",
        "ref_date=start_date\n",
        "ed_date = datetime(2020,1,10)\n",
        "method = 'MBMP'\n",
        "obj = ms.ch4ret(start_date,ref_date, method,lat,lon,area= 2,case= case,\n",
        "                TOAsat= 'S2', verbose = True, min_red_R= 0.7 )\n",
        "obj.seriesDelr(start_date,ed_date, ref_search_range= 6, continue_old = False)"
      ]
    }
  ],
  "metadata": {
    "colab": {
      "provenance": []
    },
    "kernelspec": {
      "display_name": "Python 3 (ipykernel)",
      "language": "python",
      "name": "python3"
    },
    "language_info": {
      "codemirror_mode": {
        "name": "ipython",
        "version": 3
      },
      "file_extension": ".py",
      "mimetype": "text/x-python",
      "name": "python",
      "nbconvert_exporter": "python",
      "pygments_lexer": "ipython3",
      "version": "3.10.4"
    }
  },
  "nbformat": 4,
  "nbformat_minor": 5
}
