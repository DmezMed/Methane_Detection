{
  "cells": [
    {
      "cell_type": "markdown",
      "source": [
        "# Sentinel-2 data processing\n"
      ],
      "metadata": {
        "id": "y0VEzaiqO9AT"
      },
      "id": "y0VEzaiqO9AT"
    },
    {
      "cell_type": "markdown",
      "source": [
        "## 0. Intalling and importing packages"
      ],
      "metadata": {
        "id": "aeNcazv2Pkei"
      },
      "id": "aeNcazv2Pkei"
    },
    {
      "cell_type": "code",
      "execution_count": null,
      "metadata": {
        "id": "KhFvG9MafhG9"
      },
      "outputs": [],
      "source": [
        "# a Google Eath engine python API is needed.\n",
        "# See https://developers.google.com/earth-engine/tutorials/community/intro-to-python-api\n",
        "project_name = str(input('Earth engine project name: '))\n",
        "import ee ; ee.Authenticate() ; ee.Initialize(project=project_name)"
      ],
      "id": "KhFvG9MafhG9"
    },
    {
      "cell_type": "code",
      "source": [
        "!pip install cartopy\n",
        "!pip install netCDF4\n",
        "!pip install matplotlib_scalebar"
      ],
      "metadata": {
        "id": "-sZSp9WsATfW"
      },
      "id": "-sZSp9WsATfW",
      "execution_count": null,
      "outputs": []
    },
    {
      "cell_type": "code",
      "execution_count": null,
      "metadata": {
        "id": "b4a4089c"
      },
      "outputs": [],
      "source": [
        "%load_ext autoreload\n",
        "%autoreload 2\n",
        "import os, sys\n",
        "import collections ; collections.Callable = collections.abc.Callable\n",
        "\n",
        "sys.path.append(\"/Scripts/\")\n",
        "sys.path.append(\"/Scripts/data_files/\")\n",
        "import Lookup_tables_generator as ltg\n",
        "import MS_XCH4_retrieval as ms\n",
        "from datetime import datetime, timedelta"
      ],
      "id": "b4a4089c"
    },
    {
      "cell_type": "markdown",
      "metadata": {
        "id": "9f341876"
      },
      "source": [
        "## 1. Retreive methane plume  "
      ],
      "id": "9f341876"
    },
    {
      "cell_type": "markdown",
      "metadata": {
        "id": "7db791a9"
      },
      "source": [
        "### 1.1 Run Google Earth Engine operations."
      ],
      "id": "7db791a9"
    },
    {
      "cell_type": "code",
      "execution_count": null,
      "metadata": {
        "id": "81b29710"
      },
      "outputs": [],
      "source": [
        "lat, lng = 70.3020, 71.7455\n",
        "case= 'C11'\n",
        "start_date=datetime (2017,6,29)\n",
        "ref_date=datetime (2017,6,15)\n",
        "obj=ms.ch4ret(start_date,ref_date,'MBMP',lat,lng,area= 3,case= case,\n",
        "              TOAsat= 'S2', verbose = True, min_red_R= 0.7 )\n",
        "\n",
        "obj.delRcalc(ref_date = ref_date, plot_option=True);"
      ],
      "id": "81b29710"
    },
    {
      "cell_type": "markdown",
      "metadata": {
        "id": "3905a981"
      },
      "source": [
        "### 1.2 Display Plume Images"
      ],
      "id": "3905a981"
    },
    {
      "cell_type": "code",
      "execution_count": null,
      "metadata": {
        "id": "0a445084"
      },
      "outputs": [],
      "source": [
        "obj.fig_delR"
      ],
      "id": "0a445084"
    },
    {
      "cell_type": "markdown",
      "metadata": {
        "id": "afaaae6f"
      },
      "source": [
        "### 1.3 Methane plume on an interactive map"
      ],
      "id": "afaaae6f"
    },
    {
      "cell_type": "code",
      "execution_count": null,
      "metadata": {
        "id": "24e9a850"
      },
      "outputs": [],
      "source": [
        "# The maps shows the corresponding RBG images, which need to be to detection method plumes.\n",
        "# TROPOMI XCH4 is also displayed.\n",
        "\n",
        "obj.foliumMap()"
      ],
      "id": "24e9a850"
    },
    {
      "cell_type": "markdown",
      "metadata": {
        "id": "9c297520"
      },
      "source": [
        "## 2. Analyze a period for methane plume detections."
      ],
      "id": "9c297520"
    },
    {
      "cell_type": "code",
      "execution_count": null,
      "metadata": {
        "id": "1432df08"
      },
      "outputs": [],
      "source": [
        " # This will create a .pkl file with data for a period\n",
        "\n",
        "lat, lng = 70.3020, 71.7455\n",
        "case= 'C11'\n",
        "start_date=datetime (2017,6,18)\n",
        "ref_date=start_date\n",
        "ed_date=datetime (2018,1,15)\n",
        "obj=ms.ch4ret(start_date,ref_date,'MBMP',lat,lng,area= 2,case= case,\n",
        "              TOAsat= 'S2', verbose = True, min_red_R= 0.7 )\n",
        "obj.seriesDelr(start_date,ed_date, ref_search_range= 6, continue_old = False)"
      ],
      "id": "1432df08"
    },
    {
      "cell_type": "markdown",
      "metadata": {
        "id": "f66051b7"
      },
      "source": [
        "# 3. Create Lookup Tables"
      ],
      "id": "f66051b7"
    },
    {
      "cell_type": "code",
      "execution_count": null,
      "metadata": {
        "id": "3934a263"
      },
      "outputs": [],
      "source": [
        "os.chdir('/Scripts/')\n",
        "#ltg.CreateAbsorptionCrossSections(\"L8\")\n",
        "#ltg.createLookupTables([\"L8\"]) # to create lookup tables for different atmospheric conditions\n",
        "ltg.plotOpticalDepths() # to make plot  of optical depths"
      ],
      "id": "3934a263"
    }
  ],
  "metadata": {
    "colab": {
      "provenance": []
    },
    "kernelspec": {
      "display_name": "Python 3 (ipykernel)",
      "language": "python",
      "name": "python3"
    },
    "language_info": {
      "codemirror_mode": {
        "name": "ipython",
        "version": 3
      },
      "file_extension": ".py",
      "mimetype": "text/x-python",
      "name": "python",
      "nbconvert_exporter": "python",
      "pygments_lexer": "ipython3",
      "version": "3.10.4"
    }
  },
  "nbformat": 4,
  "nbformat_minor": 5
}